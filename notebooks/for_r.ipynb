{
 "cells": [
  {
   "cell_type": "code",
   "execution_count": null,
   "metadata": {},
   "outputs": [],
   "source": [
    "query = '''\n",
    "SELECT scooters.companyname, AVG(chargelevel) AS avg_charge\n",
    "FROM scooters\n",
    "GROUP BY scooters.companyname\n",
    "'''\n",
    "with engine.connect() as connection:\n",
    "    scoots1 = pd.read_sql(text(query), con = connection)"
   ]
  },
  {
   "cell_type": "code",
   "execution_count": null,
   "metadata": {},
   "outputs": [],
   "source": [
    "sns.barplot(x = 'companyname',y = 'avg_charge',data = scoots1, palette= scoot_company_colors).set(title=\"Average Charge of Scooter by Company\")\n",
    "plt.xlabel(\"Company Name\")\n",
    "plt.ylabel(\"Average Charge (percentage)\")\n",
    "plt.savefig('../images/avg_trips_per_day', format = 'png')\n",
    "plt.show()"
   ]
  },
  {
   "cell_type": "code",
   "execution_count": null,
   "metadata": {},
   "outputs": [],
   "source": [
    "query = '''\n",
    "SELECT scooters.companyname, count(DISTINCT(sumdid))\n",
    "FROM scooters\n",
    "GROUP BY scooters.companyname\n",
    "'''\n",
    "with engine.connect() as connection:\n",
    "    scoots4 = pd.read_sql(text(query), con = connection)"
   ]
  },
  {
   "cell_type": "code",
   "execution_count": null,
   "metadata": {},
   "outputs": [],
   "source": [
    "sns.barplot(x = 'companyname',y = 'count',data = scoots4, palette= scoot_company_colors).set(title=\"Number of Scooters per Company\")\n",
    "plt.xlabel(\"Company Name\")\n",
    "plt.ylabel(\"Number of Scooters\")\n",
    "\n",
    "plt.show()"
   ]
  }
 ],
 "metadata": {
  "language_info": {
   "name": "python"
  }
 },
 "nbformat": 4,
 "nbformat_minor": 2
}
